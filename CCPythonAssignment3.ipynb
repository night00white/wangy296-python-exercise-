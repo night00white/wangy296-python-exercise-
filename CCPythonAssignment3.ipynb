{
 "cells": [
  {
   "cell_type": "markdown",
   "metadata": {},
   "source": [
    "# Exercise 1:\n",
    "Study the following code and create your own mad-libs generator (please don't copy the example)\n",
    "\n",
    "A Mad-Libs invitation generator\n",
    "Mad-Libs is a phrasal template word game where one player prompts others for a list of words to substitute for blanks in a story.\n",
    "\n",
    "We are going to create an event invitation function that would allow us to automate creating copies of event invitations.\n",
    "\n",
    "The invitation template:\n",
    "\n",
    "    Hey, _guestname_!\n",
    "    You are invited to a _type_of_event_! Join us on _date_ at _location_!\n",
    "    Bring _items_.\n",
    "\n",
    "    Best,\n",
    "    Party bear\n",
    "An example output:\n",
    "\n",
    "    Hey, Sven!\n",
    "    You are invited to a gathering! Join us on dn2 yluJ at erauqS noinU!\n",
    "    Bring beverages, games, signs, masks, and facecovers.\n",
    "\n",
    "    Best,\n",
    "    Party bear"
   ]
  },
  {
   "cell_type": "code",
   "execution_count": 102,
   "metadata": {},
   "outputs": [],
   "source": [
    "\n",
    "import random\n",
    "def exercise(namelist, exercise_type, date, area, items):\n",
    "    \"\"\"\n",
    "        This function takes event information input, parse them and turn them into\n",
    "        a formatted invitation that's ready to be duplicate and populate.\n",
    "    \"\"\"\n",
    "    # outputs a random item from the list\n",
    "    def getRand(list):\n",
    "        return random.choice(list)\n",
    "    \n",
    "    # formats all outputs form a list as 'a, b, and c'\n",
    "    def getAll(li):\n",
    "        return ', '.join(li[:-1]) + \", and %s\" %(li[-1])\n",
    "    \n",
    "  \n",
    "    # variables needed:\n",
    "    childrenlist = namelist\n",
    "    type_of_exercise = exercise_type\n",
    "    date = date[::1]\n",
    "    funarea = area[::-1] # a simple reversed encrption\n",
    "    items = items\n",
    "    invite_template = '''\n",
    "            Dear %s:\n",
    "            This is now Swimming season and let's %s! The first class is this %s at %s!\n",
    "            Please remember to bring %s.\n",
    "\n",
    "            Best,\n",
    "            Coach Steven\n",
    "\n",
    "            ---\n",
    "        ''' \n",
    "    \n",
    "    # loop through all guest tuples in the guestlist\n",
    "    # populate our invitations\n",
    "    for children in childrenlist:\n",
    "        print(invite_template % (children,\n",
    "                                 type_of_exercise,\n",
    "                                 date,\n",
    "                                 area,\n",
    "                                 getAll(items)# try getRand()\n",
    "                                ))"
   ]
  },
  {
   "cell_type": "code",
   "execution_count": 37,
   "metadata": {},
   "outputs": [
    {
     "name": "stdout",
     "output_type": "stream",
     "text": [
      "\n",
      "            Dear Lucas:\n",
      "            This is now Swimming season and let's have fun! The first class is this weekend at Apple Park!\n",
      "            Please remember to bring sunglasses, swimming suits, water bottles, towels, and toys.\n",
      "\n",
      "            Best,\n",
      "            Coach Steven\n",
      "\n",
      "            ---\n",
      "        \n",
      "\n",
      "            Dear Linda:\n",
      "            This is now Swimming season and let's have fun! The first class is this weekend at Apple Park!\n",
      "            Please remember to bring sunglasses, swimming suits, water bottles, towels, and toys.\n",
      "\n",
      "            Best,\n",
      "            Coach Steven\n",
      "\n",
      "            ---\n",
      "        \n",
      "\n",
      "            Dear Jenny's parents:\n",
      "            This is now Swimming season and let's have fun! The first class is this weekend at Apple Park!\n",
      "            Please remember to bring sunglasses, swimming suits, water bottles, towels, and toys.\n",
      "\n",
      "            Best,\n",
      "            Coach Steven\n",
      "\n",
      "            ---\n",
      "        \n",
      "\n",
      "            Dear Leo:\n",
      "            This is now Swimming season and let's have fun! The first class is this weekend at Apple Park!\n",
      "            Please remember to bring sunglasses, swimming suits, water bottles, towels, and toys.\n",
      "\n",
      "            Best,\n",
      "            Coach Steven\n",
      "\n",
      "            ---\n",
      "        \n",
      "\n",
      "            Dear Mimi and Nini:\n",
      "            This is now Swimming season and let's have fun! The first class is this weekend at Apple Park!\n",
      "            Please remember to bring sunglasses, swimming suits, water bottles, towels, and toys.\n",
      "\n",
      "            Best,\n",
      "            Coach Steven\n",
      "\n",
      "            ---\n",
      "        \n",
      "\n",
      "            Dear Rose:\n",
      "            This is now Swimming season and let's have fun! The first class is this weekend at Apple Park!\n",
      "            Please remember to bring sunglasses, swimming suits, water bottles, towels, and toys.\n",
      "\n",
      "            Best,\n",
      "            Coach Steven\n",
      "\n",
      "            ---\n",
      "        \n"
     ]
    }
   ],
   "source": [
    "children = (\"Lucas\",\"Linda\",\"Jenny's parents\",\"Leo\",\"Mimi and Nini\",\"Rose\")\n",
    "items = ['sunglasses','swimming suits','water bottles',\"towels\",\"toys\"]\n",
    "\n",
    "# call the generator function to populate invitations:\n",
    "exercise(children, \"have fun\", \"weekend\", \"Apple Park\", items)"
   ]
  },
  {
   "cell_type": "markdown",
   "metadata": {},
   "source": [
    "# Exercise 2:\n"
   ]
  },
  {
   "cell_type": "code",
   "execution_count": 101,
   "metadata": {},
   "outputs": [
    {
     "name": "stdout",
     "output_type": "stream",
     "text": [
      " PALINDROME CHECK RESULT \n",
      " The given string   '  wow  '  is a palindrome, true\n",
      " The given string   '  12a3a21  '  is a palindrome, true\n",
      " The given string   '  anna  '  is a palindrome, true\n",
      " The given string   ' wowza '  is not a palindrome, false\n",
      " The given string   ' 123a21 '  is not a palindrome, false\n",
      " The given string   ' <3 mom <3 '  is not a palindrome, false\n",
      " The given string   ' racecar '  is a palindrome, true\n",
      " The given string   ' wasitacatisaw '  is a palindrome, true\n"
     ]
    }
   ],
   "source": [
    "def isPalindrome(s):\n",
    "# Calling reverse function\n",
    "    if len(s) <= 1 :\n",
    "        return True\n",
    "    if s[0] == s[len(s) - 1] :\n",
    "        return isPalindrome(s[1:len(s) - 1])\n",
    "    else:\n",
    "        return False\n",
    "    \n",
    "# Driver code\n",
    "Palindrome_input_Variable = [ ' wow ' , ' 12a3a21 ' , ' anna ' ,  'wowza','123a21','<3 mom <3','racecar','wasitacatisaw'] \n",
    "\n",
    "print( \" PALINDROME CHECK RESULT \" )\n",
    "for i in Palindrome_input_Variable:\n",
    "    ans = isPalindrome(i)\n",
    "    if ans == 1:\n",
    "        print( \" The given string  \", \"'\" , i , \"' \",\"is a palindrome, true\")\n",
    "    else:\n",
    "        print( \" The given string  \" , \"'\" , i , \"' \",\"is not a palindrome, false\")\n",
    "    \n"
   ]
  },
  {
   "cell_type": "markdown",
   "metadata": {},
   "source": [
    "# Exercise 3"
   ]
  },
  {
   "cell_type": "code",
   "execution_count": 99,
   "metadata": {},
   "outputs": [
    {
     "data": {
      "image/png": "[encoded data removed]",
      "text/plain": [
       "<Figure size 324x288 with 1 Axes>"
      ]
     },
     "metadata": {
      "needs_background": "light"
     },
     "output_type": "display_data"
    }
   ],
   "source": [
    "import matplotlib\n",
    "import matplotlib.pyplot as plt\n",
    "\n",
    "\n",
    "plt.rcParams['savefig.facecolor'] = \"0.8\"\n",
    "plt.rcParams['figure.figsize'] = 4.5, 4.\n",
    "plt.rcParams['figure.max_open_warning'] = 50\n",
    "\n",
    "\n",
    "def example_plot(ax, fontsize=5, hide_labels=False):\n",
    "    ax.plot([7, 0])\n",
    "\n",
    "    ax.locator_params(nbins=3)\n",
    "    if hide_labels:\n",
    "        ax.set_xticklabels([])\n",
    "        ax.set_yticklabels([])\n",
    "    else:\n",
    "        ax.set_xlabel('bad temper(%)', fontsize=fontsize)\n",
    "        ax.set_ylabel('Time for sleeping (h)', fontsize=fontsize)\n",
    "        ax.set_title('Sleeping Late v.s Temper Relationship', fontsize=fontsize)\n",
    "\n",
    "\n",
    "fig, ax = plt.subplots(constrained_layout=False)\n",
    "example_plot(ax, fontsize=15)"
   ]
  },
  {
   "cell_type": "code",
   "execution_count": null,
   "metadata": {},
   "outputs": [],
   "source": []
  },
  {
   "cell_type": "code",
   "execution_count": null,
   "metadata": {},
   "outputs": [],
   "source": []
  }
 ],
 "metadata": {
  "kernelspec": {
   "display_name": "Python 3",
   "language": "python",
   "name": "python3"
  },
  "language_info": {
   "codemirror_mode": {
    "name": "ipython",
    "version": 3
   },
   "file_extension": ".py",
   "mimetype": "text/x-python",
   "name": "python",
   "nbconvert_exporter": "python",
   "pygments_lexer": "ipython3",
   "version": "3.8.3"
  }
 },
 "nbformat": 4,
 "nbformat_minor": 4
}
